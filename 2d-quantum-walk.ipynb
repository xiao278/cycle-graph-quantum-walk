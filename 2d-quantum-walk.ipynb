{
 "cells": [
  {
   "cell_type": "code",
   "execution_count": 2,
   "id": "3ca61bf5",
   "metadata": {},
   "outputs": [],
   "source": [
    "import qiskit\n",
    "from qiskit import *\n",
    "qiskit.__qiskit_version__\n",
    "\n",
    "import numpy as np\n",
    "from qiskit.tools.visualization import plot_histogram, plot_state_city\n",
    "\n",
    "import matplotlib as mpl\n",
    "import matplotlib.pyplot as plot"
   ]
  },
  {
   "cell_type": "code",
   "execution_count": 58,
   "id": "ecf5aa88",
   "metadata": {},
   "outputs": [],
   "source": [
    "#----- parameters -----\n",
    "\n",
    "#number of qubits representing walker state (2^n states)\n",
    "#graph node numbers range: [-2^(n-1), +2^(n-1)-1]\n",
    "n = 6\n",
    "\n",
    "#number of iterations/walks to be performed\n",
    "step = 30\n",
    "\n",
    "#display all columns, False if too cluttered\n",
    "showAll = False;\n",
    "\n",
    "#determines the coin qubit starting state (true -> 1, false -> 0)\n",
    "invertCoin = True;\n",
    "\n",
    "#----- /parameters -----"
   ]
  },
  {
   "cell_type": "code",
   "execution_count": 60,
   "id": "99dbad4b",
   "metadata": {},
   "outputs": [],
   "source": [
    "qnodes = QuantumRegister(2 * n,'qc')\n",
    "qsubnodes = QuantumRegister(2,'qanc')\n",
    "#csubnodes = ClassicalRegister(1,'canc')\n",
    "cnodes = ClassicalRegister(2 * n,'cr')\n",
    "\n",
    "#clockwise rotation, adder circuit like\n",
    "def increment_gate(qwc, q, subnodes, coord = 'x'):\n",
    "    offset = 0\n",
    "    if (coord == 'y'):\n",
    "        offset = n\n",
    "        qwc.x(subnodes[1])\n",
    "    for t in range(n):\n",
    "        tgt = t + offset\n",
    "        control = []\n",
    "        for i in range(t + offset + 1, n + offset):\n",
    "            control.append(q[i])\n",
    "        control.append(subnodes[0])\n",
    "        control.append(subnodes[1])\n",
    "        qwc.mct(control, tgt)\n",
    "    if (coord == 'y'):\n",
    "        qwc.x(subnodes[1])\n",
    "    qwc.barrier()\n",
    "        \n",
    "\n",
    "#counterclockwise rotation, subtractor circuit like\n",
    "def decrement_gate(qwc, q, subnodes, coord):\n",
    "    qwc.x(subnodes[0])\n",
    "    offset = 0\n",
    "    if (coord == 'y'):\n",
    "        offset = n\n",
    "    else:\n",
    "        qwc.x(subnodes[1])\n",
    "    for i in range(offset + 1, n + offset):\n",
    "        qwc.x(q[i])\n",
    "    for t in range(n):\n",
    "        if (t != 0):\n",
    "            qwc.x(q[t + offset])\n",
    "        tgt = t + offset\n",
    "        control = []\n",
    "        for i in range(t + offset + 1, n + offset):\n",
    "            control.append(q[i])\n",
    "        control.append(subnodes[0])\n",
    "        control.append(subnodes[1])\n",
    "        qwc.mct(control, tgt)\n",
    "    if (coord != 'y'):\n",
    "        qwc.x(subnodes[1])\n",
    "    qwc.x(subnodes[0])\n",
    "    qwc.barrier()\n",
    "\n",
    "def runQWC(qwc, times):\n",
    "    for i in range(times):\n",
    "        qwc.h(qsubnodes[0])\n",
    "        qwc.h(qsubnodes[1])\n",
    "        #\"coinflip\" applied to the subnode every iteration\n",
    "        increment_gate(qwc, qnodes, qsubnodes, coord = 'x')\n",
    "        decrement_gate(qwc, qnodes, qsubnodes, coord = 'x')\n",
    "        increment_gate(qwc, qnodes, qsubnodes, coord = 'y')\n",
    "        decrement_gate(qwc, qnodes, qsubnodes, coord = 'y')\n",
    "    qwc.measure(qnodes, cnodes)\n",
    "\n",
    "qwc = QuantumCircuit(qnodes, qsubnodes, cnodes)\n",
    "if (invertCoin):\n",
    "    qwc.x(qsubnodes[0])\n",
    "    qwc.x(qsubnodes[1])\n",
    "\n",
    "#build circuit\n",
    "runQWC(qwc, step)\n",
    "\n",
    "#qwc.draw()"
   ]
  },
  {
   "cell_type": "code",
   "execution_count": 61,
   "id": "fada6337",
   "metadata": {},
   "outputs": [
    {
     "data": {
      "text/plain": [
       "<matplotlib.image.AxesImage at 0x203780dc310>"
      ]
     },
     "execution_count": 61,
     "metadata": {},
     "output_type": "execute_result"
    },
    {
     "data": {
      "image/png": "[encoded data removed]",
      "text/plain": [
       "<Figure size 640x480 with 1 Axes>"
      ]
     },
     "metadata": {},
     "output_type": "display_data"
    }
   ],
   "source": [
    "def toDec(string):\n",
    "    dec = int(string, 2)\n",
    "    if (string[0] == \"1\"):\n",
    "        dec -= 2 ** len(string) \n",
    "    return dec\n",
    "\n",
    "def aersim(circ):\n",
    "      sim = Aer.get_backend('aer_simulator')\n",
    "      return execute(circ, sim, shots=1000).result().get_counts(circ)\n",
    "\n",
    "def ionq(circ):\n",
    "    backend = provider.get_backend(\"ionq.simulator\")\n",
    "    #backend = provider.get_backend(\"ionq.qpu\")\n",
    "    job = backend.run(circ, shots=1000)\n",
    "    print(\"Job id:\", job.id())\n",
    "    res = job.result()\n",
    "    return res.get_counts()\n",
    "\n",
    "\n",
    "# ------\n",
    "\n",
    "result = aersim(qwc)\n",
    "\n",
    "# ------\n",
    "\n",
    "mat = np.zeros(shape=(2**n,2**n), dtype=int)\n",
    "for r in result:\n",
    "    b = r[::-1]\n",
    "    x = b[0:6]\n",
    "    y = b[6:12]\n",
    "    mat[toDec(x) + 2**(n-1),toDec(y) + 2**(n-1)] = result[r]\n",
    "\n",
    "plot.imshow(mat)"
   ]
  }
 ],
 "metadata": {
  "kernelspec": {
   "display_name": "Python 3 (ipykernel)",
   "language": "python",
   "name": "python3"
  },
  "language_info": {
   "codemirror_mode": {
    "name": "ipython",
    "version": 3
   },
   "file_extension": ".py",
   "mimetype": "text/x-python",
   "name": "python",
   "nbconvert_exporter": "python",
   "pygments_lexer": "ipython3",
   "version": "3.11.1"
  }
 },
 "nbformat": 4,
 "nbformat_minor": 5
}
